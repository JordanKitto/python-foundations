{
 "cells": [
  {
   "cell_type": "code",
   "execution_count": 3,
   "id": "499c1c1b",
   "metadata": {},
   "outputs": [
    {
     "name": "stdout",
     "output_type": "stream",
     "text": [
      "{'b@test.com', 'c@test.com', 'a@test.com'}\n",
      "{'b@test.com', 'c@test.com', 'a@test.com'}\n"
     ]
    }
   ],
   "source": [
    "# Deduplicating customer emails (set)\n",
    "emails = [\"a@test.com\", \"b@test.com\", \"a@test.com\", \"c@test.com\"]\n",
    "\n",
    "new_set = set()\n",
    "\n",
    "for x in emails:\n",
    "    new_set.add(x)\n",
    "print(new_set)\n",
    "\n",
    "new_set_c = {x for x in emails}\n",
    "print(new_set_c)\n"
   ]
  },
  {
   "cell_type": "code",
   "execution_count": 15,
   "id": "a9ef988f",
   "metadata": {},
   "outputs": [
    {
     "name": "stdout",
     "output_type": "stream",
     "text": [
      "{'apple': 1.2, 'banana': 0.5, 'orange': 0.8}\n",
      "{'apple': 1.2, 'banana': 0.5, 'orange': 0.8}\n"
     ]
    }
   ],
   "source": [
    "# Product price look up (dict)\n",
    "products = [(\"apple\", 1.20), (\"banana\", 0.50), (\"orange\", 0.80)]\n",
    "\n",
    "products_dict = {}\n",
    "\n",
    "for name, price in products:\n",
    "    products_dict [name] = price\n",
    "print(products_dict)\n",
    "    \n",
    "\n",
    "\n",
    "products_dict_c = {name: price for name, price in products}\n",
    "print(products_dict_c)"
   ]
  },
  {
   "cell_type": "code",
   "execution_count": 49,
   "id": "918ed972",
   "metadata": {},
   "outputs": [
    {
     "name": "stdout",
     "output_type": "stream",
     "text": [
      "['small', 'large', 'medium', 'large', 'large']\n",
      "['small', 'large', 'medium', 'large', 'large']\n"
     ]
    }
   ],
   "source": [
    "# Categorising transaction amounts (list)\n",
    "transactions = [5, 20, 50, 120, 300]\n",
    "\n",
    "trans_sorted = []\n",
    "\n",
    "for x in transactions:\n",
    "    if x < 20:\n",
    "        trans_sorted.append(\"small\")\n",
    "    elif x > 20 and x < 100:\n",
    "        trans_sorted.append(\"medium\")\n",
    "    else: \n",
    "        trans_sorted.append(\"large\")\n",
    "        \n",
    "print(trans_sorted)\n",
    "\n",
    "trans_sorted_c = [\"small\" if x < 20 else \"medium\" if x > 20 and x < 100 else \"large\" for x in transactions]\n",
    "print(trans_sorted_c)"
   ]
  },
  {
   "cell_type": "code",
   "execution_count": 73,
   "id": "3dc2f264",
   "metadata": {},
   "outputs": [
    {
     "name": "stdout",
     "output_type": "stream",
     "text": [
      "{'Alice': 'pass', 'Bob': 'pass', 'Charlie': 'fail', 'Dana': 'pass'}\n"
     ]
    }
   ],
   "source": [
    "# Student grades (dict)\n",
    "grades = [(\"Alice\", 85), (\"Bob\", 62), (\"Charlie\", 48), (\"Dana\", 95)]\n",
    "result = {}\n",
    "\n",
    "# for name, grade in grades:\n",
    "#     if grade < 50:\n",
    "#         result[name] = 'fail'\n",
    "#     else:\n",
    "#         result[name] =  'pass'\n",
    "# # print(result)\n",
    "\n",
    "result_c = {name: ('fail' if grade < 50 else 'pass') for name, grade in grades}\n",
    "\n",
    "print(result_c)"
   ]
  },
  {
   "cell_type": "code",
   "execution_count": 79,
   "id": "6e274d00",
   "metadata": {},
   "outputs": [
    {
     "name": "stdout",
     "output_type": "stream",
     "text": [
      "{'apple': 'in stock', 'banana': 'out of stock', 'orange': 'in stock', 'pear': 'out of stock'}\n",
      "{'apple': 'in stock', 'banana': 'out of stock', 'orange': 'in stock', 'pear': 'out of stock'}\n"
     ]
    }
   ],
   "source": [
    "# Inventory restock check (dict with condition)\n",
    "inventory = [(\"apple\", 10), (\"banana\", 0), (\"orange\", 3), (\"pear\", 0)]\n",
    "\n",
    "levels = {}\n",
    "\n",
    "for item, stock in inventory:\n",
    "    if stock == 0:\n",
    "        levels[item] = 'out of stock'\n",
    "    else:\n",
    "        levels[item] = 'in stock'\n",
    "        \n",
    "print(levels)\n",
    "\n",
    "levels_c = {item: ('out of stock' if stock == 0 else 'in stock') for item, stock in inventory}\n",
    "print(levels_c)\n"
   ]
  },
  {
   "cell_type": "code",
   "execution_count": null,
   "id": "686ec7fd",
   "metadata": {},
   "outputs": [],
   "source": [
    "# Sales analysis (dict + list)\n",
    "sales = [(\"apple\", 50), (\"banana\", 10), (\"orange\", 0), (\"pear\", 25)]\n",
    "\n",
    "best_sellers = {}\n",
    "\n",
    "items_sold = list()"
   ]
  },
  {
   "cell_type": "code",
   "execution_count": 20,
   "id": "cd72c2e0",
   "metadata": {},
   "outputs": [
    {
     "name": "stdout",
     "output_type": "stream",
     "text": [
      "7\n",
      "7\n"
     ]
    }
   ],
   "source": [
    "# Count vowels in a string\n",
    "text = \"data engineering\"\n",
    "\n",
    "vowels = ['a', 'e', 'i', 'o', 'u']\n",
    "vowel_counter = 0\n",
    "\n",
    "for x in text:\n",
    "    if x in vowels:\n",
    "        vowel_counter += 1\n",
    "print(vowel_counter)\n",
    "    \n",
    "vowles_c = sum(1 for x in text if x in vowels)\n",
    "print(vowles_c)\n",
    "\n"
   ]
  },
  {
   "cell_type": "code",
   "execution_count": null,
   "id": "991ab3b2",
   "metadata": {},
   "outputs": [
    {
     "name": "stdout",
     "output_type": "stream",
     "text": [
      "[5, 4, 3, 2, 1]\n"
     ]
    }
   ],
   "source": [
    "# Reverse a list manually\n",
    "nums = [1, 2, 3, 4, 5]\n",
    "\n",
    "reverse_list = []\n",
    "\n",
    "for x in nums:\n",
    "    reverse_list.insert(0, x)\n",
    "print(reverse_list)\n",
    "\n"
   ]
  },
  {
   "cell_type": "code",
   "execution_count": 59,
   "id": "9a408231",
   "metadata": {},
   "outputs": [
    {
     "name": "stdout",
     "output_type": "stream",
     "text": [
      "{'data': 2, 'is': 2, 'the': 1, 'new': 1, 'oil': 1, 'powerful': 1}\n"
     ]
    }
   ],
   "source": [
    "# Word Frequency Dictionary\n",
    "sentence = \"data is the new oil data is powerful\"\n",
    "sentence_count = {}\n",
    "sent_split = sentence.split()\n",
    "\n",
    "for x in sent_split:\n",
    "    if x in sentence_count:\n",
    "        sentence_count[x] += 1\n",
    "    else: \n",
    "        sentence_count[x] = 1\n",
    "print(sentence_count)\n",
    "    \n",
    "    "
   ]
  },
  {
   "cell_type": "code",
   "execution_count": null,
   "id": "a98876bb",
   "metadata": {},
   "outputs": [
    {
     "name": "stdout",
     "output_type": "stream",
     "text": [
      "{'great': 2, 'service,': 2, 'bad': 2, 'food,': 1, 'average': 1, 'staff,': 1, 'food': 1}\n",
      "{'food,', 'staff,', 'food', 'great', 'service,', 'average', 'bad'}\n"
     ]
    }
   ],
   "source": [
    "# Mini Challenge: Customer Feedback Analysis\n",
    "\n",
    "# You need to:\n",
    "# Split into words → clean the text into a list.\n",
    "# Count each unique word → build a dictionary of word frequencies.\n",
    "# Extract unique words → build a set of distinct words mentioned.\n",
    "# Filter positive words → build a list of words that are \"great\" or \"average\".\n",
    "\n",
    "feedback = \"great service, bad food, average service, great staff, bad food\"\n",
    "\n",
    "text_split = feedback.split()\n",
    "\n",
    "unique_words = set()\n",
    "\n",
    "word_count = {}\n",
    "\n",
    "positive_words = []\n",
    "\n",
    "\n",
    "for word in text_split:\n",
    "    if word in word_count:\n",
    "        word_count[word] += 1\n",
    "    else:\n",
    "        word_count[word] = 1\n",
    "    if word in text_split:\n",
    "        unique_words.add(word)\n",
    "    if word in \n",
    "        \n",
    "print(word_count)\n",
    "print(unique_words)\n",
    "\n",
    "\n"
   ]
  },
  {
   "cell_type": "code",
   "execution_count": null,
   "id": "c299eadc",
   "metadata": {},
   "outputs": [],
   "source": []
  },
  {
   "cell_type": "code",
   "execution_count": null,
   "id": "b6d08bb3",
   "metadata": {},
   "outputs": [],
   "source": []
  }
 ],
 "metadata": {
  "kernelspec": {
   "display_name": "Python 3",
   "language": "python",
   "name": "python3"
  },
  "language_info": {
   "codemirror_mode": {
    "name": "ipython",
    "version": 3
   },
   "file_extension": ".py",
   "mimetype": "text/x-python",
   "name": "python",
   "nbconvert_exporter": "python",
   "pygments_lexer": "ipython3",
   "version": "3.13.6"
  }
 },
 "nbformat": 4,
 "nbformat_minor": 5
}
