{
 "cells": [
  {
   "cell_type": "code",
   "execution_count": 1,
   "id": "0aa3092c",
   "metadata": {},
   "outputs": [
    {
     "data": {
      "text/plain": [
       "7"
      ]
     },
     "execution_count": 1,
     "metadata": {},
     "output_type": "execute_result"
    }
   ],
   "source": [
    "# Count vowels (text)\n",
    "\n",
    "def count_vowels(text):\n",
    "    vowels = ['a', 'e', 'i', 'o', 'u']\n",
    "    counter = 0\n",
    "    for x  in text.lower():\n",
    "        if x in vowels:\n",
    "            counter += 1\n",
    "    return counter\n",
    "            \n",
    "            \n",
    "count_vowels(\"Data engineering\")        \n",
    "\n",
    "\n"
   ]
  },
  {
   "cell_type": "code",
   "execution_count": 3,
   "id": "b74f87ce",
   "metadata": {},
   "outputs": [
    {
     "name": "stdout",
     "output_type": "stream",
     "text": [
      "5.0\n",
      "Error: Cannot divide by zero\n"
     ]
    }
   ],
   "source": [
    "# Safe Division\n",
    "\n",
    "def safe_divide(a, b):\n",
    "    if b == 0:\n",
    "        return \"Error: Cannot divide by zero\"\n",
    "    else:\n",
    "        result = a / b\n",
    "    return result\n",
    "    \n",
    "print(safe_divide(10, 2))\n",
    "print(safe_divide(7, 0))"
   ]
  },
  {
   "cell_type": "code",
   "execution_count": 5,
   "id": "839ef095",
   "metadata": {},
   "outputs": [
    {
     "name": "stdout",
     "output_type": "stream",
     "text": [
      "(2, 8, 5.0)\n",
      "(10, 30, 20.0)\n"
     ]
    }
   ],
   "source": [
    "# Exercise 2: Summarise numbers (min, max, average)\n",
    "\n",
    "# Define function summarize(numbers).\n",
    "# Use min(numbers) to get the smallest value.\n",
    "# Use max(numbers) to get the largest value.\n",
    "# Compute average → sum(numbers) / len(numbers).\n",
    "# Return all three as a tuple (min, max, avg).\n",
    "\n",
    "def summarise(numbers):\n",
    "    minimum = min(numbers)\n",
    "    maximum = max(numbers)\n",
    "    average = sum(numbers) / len(numbers)\n",
    "    \n",
    "    return minimum, maximum, average\n",
    "    \n",
    "    \n",
    "print(summarise([2, 5, 8]))    # → (2, 8, 5.0)\n",
    "print(summarise([10, 20, 30])) # → (10, 30, 20.0)\n"
   ]
  },
  {
   "cell_type": "code",
   "execution_count": 10,
   "id": "e93e7d90",
   "metadata": {},
   "outputs": [
    {
     "data": {
      "text/plain": [
       "False"
      ]
     },
     "execution_count": 10,
     "metadata": {},
     "output_type": "execute_result"
    }
   ],
   "source": [
    "# Exercise 3: Email validation\n",
    "\n",
    "# Define function is_valid_email(email).\n",
    "# Check if \"@\" is in the string.\n",
    "# Check if \".\" is in the string.\n",
    "# If both conditions are true → return True.\n",
    "# Otherwise → return False.\n",
    "\n",
    "def is_valid_email(email):\n",
    "    if '@' in email and '.' in email:\n",
    "        return True\n",
    "    else:\n",
    "        return False\n",
    "    \n",
    "    \n",
    "\n",
    "is_valid_email(\"user.domain.com\")\n",
    "\n"
   ]
  },
  {
   "cell_type": "code",
   "execution_count": 30,
   "id": "45569afb",
   "metadata": {},
   "outputs": [
    {
     "data": {
      "text/plain": [
       "'testing hello world'"
      ]
     },
     "execution_count": 30,
     "metadata": {},
     "output_type": "execute_result"
    }
   ],
   "source": [
    "# Exercise 4: Text Cleaner Function\n",
    "\n",
    "# Define the function clean_text(text).\n",
    "# Convert to lowercase with .lower().\n",
    "# Replace \",\" and \".\" with empty strings (.replace(\",\", \"\"), .replace(\".\", \"\")).\n",
    "# Use .strip() to remove extra whitespace.\n",
    "# Return the cleaned string.\n",
    "\n",
    "\n",
    "def clean_text(text):\n",
    "    new_text = text.lower().replace(\",\", \"\").replace(\".\",\"\").strip()\n",
    "    return new_text\n",
    "    \n",
    "\n",
    "    \n",
    "clean_text(\"TeStInG, Hello world. \")\n"
   ]
  },
  {
   "cell_type": "code",
   "execution_count": 6,
   "id": "3bac9501",
   "metadata": {},
   "outputs": [
    {
     "name": "stdout",
     "output_type": "stream",
     "text": [
      "hello world\n",
      "hello, world.\n"
     ]
    }
   ],
   "source": [
    "# Exercise 5: Flexible Text Cleaner\n",
    "\n",
    "# Define the function clean_text(text, remove_punct=True).\n",
    "# Always:\n",
    "# Convert to lowercase.\n",
    "# Strip whitespace.\n",
    "# If remove_punct is True:\n",
    "# Remove commas and periods (as before).\n",
    "# Return the final string.\n",
    "\n",
    "def clean_text(text, remove_punct=True):\n",
    "    cleaned_text = text.lower().strip()\n",
    "    if remove_punct:\n",
    "        cleaned_text = cleaned_text.replace(\",\", \"\").replace(\".\", \"\")\n",
    "    return cleaned_text\n",
    "    \n",
    "print(clean_text(\" Hello, World. \"))\n",
    "print(clean_text(\" Hello, World. \", remove_punct=False))  "
   ]
  },
  {
   "cell_type": "code",
   "execution_count": 2,
   "id": "e76e8723",
   "metadata": {},
   "outputs": [
    {
     "name": "stdout",
     "output_type": "stream",
     "text": [
      "[10, 25, 15]\n",
      "[]\n"
     ]
    }
   ],
   "source": [
    "# Exercise 6: Filter Positive Numbers\n",
    "\n",
    "# Define the function filter_positive(numbers).\n",
    "# Create an empty list called result.\n",
    "# Loop through each number in numbers.\n",
    "# If the number is greater than 0, append it to result.\n",
    "# Return the result list.\n",
    "\n",
    "def filter_positive(numbers):\n",
    "    result = []\n",
    "    for x in numbers:\n",
    "        if x > 0:\n",
    "            result.append(x)\n",
    "    return result\n",
    "\n",
    "print(filter_positive([10, -3, 25, 0, -1, 15]))  \n",
    "print(filter_positive([-5, -2, 0]))  "
   ]
  },
  {
   "cell_type": "code",
   "execution_count": 8,
   "id": "23ba3dee",
   "metadata": {},
   "outputs": [
    {
     "name": "stdout",
     "output_type": "stream",
     "text": [
      "20.0\n",
      "Error: empty list\n"
     ]
    }
   ],
   "source": [
    "# Exercise 7: Safe Average Calculator\n",
    "\n",
    "# Function Purpose\n",
    "# Create a function safe_average(numbers) that:\n",
    "    # Returns the average of the numbers in a list.\n",
    "    # If the list is empty, return the string \"Error: empty list\".\n",
    "# This is common in reporting or analytics, where empty datasets should not crash your script with a ZeroDivisionError.\n",
    "\n",
    "def safe_average(numbers):\n",
    "    if len(numbers) == 0:\n",
    "        return (\"Error: empty list\")\n",
    "    else:\n",
    "        avg = sum(numbers) / len(numbers)\n",
    "        return avg\n",
    "    \n",
    "print(safe_average([10, 20, 30]))\n",
    "print(safe_average([]))"
   ]
  },
  {
   "cell_type": "code",
   "execution_count": 10,
   "id": "2a4a9d48",
   "metadata": {},
   "outputs": [
    {
     "name": "stdout",
     "output_type": "stream",
     "text": [
      "(5, 15, 10.0)\n",
      "Error: empty list\n"
     ]
    }
   ],
   "source": [
    "# Exercise 8: Number Summary (Min, Max, Average)\n",
    "# Create a function number_summary(numbers) that:\n",
    "    # Returns three values: the minimum, maximum, and average of a list of numbers.\n",
    "    # If the list is empty, return the string \"Error: empty list\".\n",
    "# This is a cleaner, reusable version of something you’ll do a lot in data analysis.\n",
    "\n",
    "def num_summary(numbers):\n",
    "    if len(numbers) == 0:\n",
    "        return(\"Error: empty list\")\n",
    "    else:\n",
    "        min_num = min(numbers)\n",
    "        max_num = max(numbers)\n",
    "        avg = sum(numbers) / len(numbers)\n",
    "        return min_num, max_num, avg\n",
    "    \n",
    "print(num_summary([5, 10, 15]))\n",
    "\n",
    "print(num_summary([]))   "
   ]
  },
  {
   "cell_type": "code",
   "execution_count": null,
   "id": "ca44e5e5",
   "metadata": {},
   "outputs": [
    {
     "name": "stdout",
     "output_type": "stream",
     "text": [
      "{'hello': 2, 'world': 1}\n"
     ]
    }
   ],
   "source": [
    "# Exercise 9: Word Frequency Counter\n",
    "\n",
    "# Write a function word_frequency(text, ignore_case=True) that:\n",
    "    # Takes a string of text as input.\n",
    "    # Optionally converts it to lowercase if ignore_case is True.\n",
    "    # Splits the text into words using .split().\n",
    "    # Counts how many times each word appears.\n",
    "    # Returns a dictionary where the keys are words and the values are counts.\n",
    "# This is a classic text-processing function used in analytics, search engines, and NLP pipelines.\n",
    "\n",
    "def word_freq(text, ignore_case=True):\n",
    "    \n",
    "    if ignore_case == True:\n",
    "        text = text.lower()\n",
    "        words = text.split()\n",
    "        split_words = {}\n",
    "        for x in words:\n",
    "            if x in split_words:\n",
    "                split_words[x] += 1\n",
    "            else:\n",
    "                split_words[x] = 1\n",
    "        return split_words\n",
    "    \n",
    "print(word_freq(\"Hello world hello\"))\n",
    "print(word_freq(\"Hello world hello\", ignore_case=False)) \n",
    "            \n",
    "\n",
    "\n"
   ]
  },
  {
   "cell_type": "code",
   "execution_count": 1,
   "id": "00f3ce4f",
   "metadata": {},
   "outputs": [
    {
     "name": "stdout",
     "output_type": "stream",
     "text": [
      "{'hello': 2, 'world': 1}\n"
     ]
    }
   ],
   "source": [
    "# Exercise 10: Word Frequency with Punctuation Cleaning\n",
    "\n",
    "# Function Purpose\n",
    "# Enhance word_freq() to clean punctuation before counting. This ensures words like \"world,\" and \"world\" are counted together.\n",
    "import string\n",
    "\n",
    "def word_freq(text, ignore_case=True):\n",
    "    if ignore_case == True:\n",
    "        text = text.lower()\n",
    "    words = text.split()\n",
    "    punct_clean = {}\n",
    "    for raw_word in words:\n",
    "        word = raw_word.strip(string.punctuation)\n",
    "        if word in punct_clean:\n",
    "            punct_clean[word] += 1\n",
    "        else:\n",
    "            punct_clean[word] = 1\n",
    "    return punct_clean\n",
    "\n",
    "    \n",
    "print(word_freq(\"Hello, world! hello.\"))  \n",
    "    "
   ]
  },
  {
   "cell_type": "code",
   "execution_count": 2,
   "id": "fef13f12",
   "metadata": {},
   "outputs": [
    {
     "name": "stdout",
     "output_type": "stream",
     "text": [
      "{'quick': 1, 'brown': 1, 'fox': 1, 'jumps': 1, 'over': 1, 'lazy': 1, 'dog': 1}\n",
      "{'data': 1, 'new': 1, 'oil': 1, 'ai': 1, 'engine': 1}\n"
     ]
    }
   ],
   "source": [
    "\n",
    "# Exercise 11: Word Frequency with Stop Word Removal\n",
    "# Function Purpose\n",
    "    # Enhance word_freq() to exclude common stop words like \"the\", \"and\", \"is\", etc., so the output focuses on meaningful words.\n",
    "    # This is standard in search engines, text mining, and analytics to avoid noise.\n",
    "import string\n",
    "\n",
    "stop_words = {\"the\", \"and\", \"is\", \"a\", \"an\", \"of\", \"to\", \"in\"}\n",
    "\n",
    "def word_freq(text, ignore_case=True):\n",
    "    if ignore_case == True:\n",
    "        text = text.lower()\n",
    "    split_words = text.split()\n",
    "    new_words = {}\n",
    "    for raw_word in split_words:\n",
    "        clean_words = raw_word.strip(string.punctuation)\n",
    "\n",
    "        if not clean_words or clean_words in stop_words:\n",
    "            continue\n",
    "        if clean_words in new_words:\n",
    "            new_words[clean_words] += 1\n",
    "        else:\n",
    "            new_words[clean_words] = 1\n",
    "    return new_words\n",
    "\n",
    "\n",
    "\n",
    "\n",
    "\n",
    "print(word_freq(\"The quick brown fox jumps over the lazy dog\"))\n",
    "# → {'quick': 1, 'brown': 1, 'fox': 1, 'jumps': 1, 'over': 1, 'lazy': 1, 'dog': 1}\n",
    "\n",
    "print(word_freq(\"Data is the new oil, and AI is the engine\"))\n",
    "# → {'data': 1, 'new': 1, 'oil': 1, 'ai': 1, 'engine': 1}"
   ]
  },
  {
   "cell_type": "code",
   "execution_count": 3,
   "id": "6c3ecc78",
   "metadata": {},
   "outputs": [
    {
     "data": {
      "text/plain": [
       "[10.0, 20.5, 300.0]"
      ]
     },
     "execution_count": 3,
     "metadata": {},
     "output_type": "execute_result"
    }
   ],
   "source": [
    "# Exercise 12: Normalise and filter numeric strings\n",
    "\n",
    "# Function purpose\n",
    "    # Turn a messy list of strings into clean floats. Keep only valid numbers. Skip blanks, None, and junk like \"N/A\". \n",
    "    # This mirrors real ETL steps where upstream sources are inconsistent.\n",
    "\n",
    "def normalize_numbers(items):\n",
    "    clean_floats = []\n",
    "    stop_word = {\"na\", \"n/a\", \"null\", \"none\"}\n",
    "\n",
    "    for x in items:\n",
    "        if x is None:\n",
    "            continue\n",
    "        s = str(x).strip().lower()\n",
    "\n",
    "        if s in stop_word:\n",
    "            continue\n",
    "        try:\n",
    "            clean_floats.append(float(s))\n",
    "        except ValueError:\n",
    "            pass\n",
    "\n",
    "\n",
    "    return clean_floats\n",
    "\n",
    "normalize_numbers([\"10\", \" 20.5 \", \"N/A\", \"\", None, \"3e2\", \"oops\"])\n",
    "# -> [10.0, 20.5, 300.0]"
   ]
  },
  {
   "cell_type": "code",
   "execution_count": 4,
   "id": "6914bb67",
   "metadata": {},
   "outputs": [
    {
     "name": "stdout",
     "output_type": "stream",
     "text": [
      "['low', 'medium', 'medium', 'high', 'low', 'medium', 'high']\n"
     ]
    }
   ],
   "source": [
    "# Exercise 13: Convert Numbers to Categories\n",
    "# Function Purpose\n",
    "\n",
    "# Create a function categorize_numbers(values) that takes a list of numeric values and returns a new list where each number is categorized as:\n",
    "    # \"low\" if the number is less than 10\n",
    "    # \"medium\" if the number is between 10 and 100 (inclusive)\n",
    "    # \"high\" if the number is greater than 100\n",
    "# This type of binning is extremely common in data preprocessing, analytics, and feature engineering.\n",
    "\n",
    "def categorize_numbers(number):\n",
    "    categories = list()\n",
    "\n",
    "    for x in number:\n",
    "        if x < 10:\n",
    "            categories.append(\"low\")\n",
    "        elif 10 <= x <= 100:\n",
    "            categories.append(\"medium\")\n",
    "        else:\n",
    "            categories.append(\"high\")\n",
    "    return categories\n",
    "\n",
    "print(categorize_numbers([5, 10, 55, 101, 0, 99, 1000]))\n",
    "# → ['low', 'medium', 'medium', 'high', 'low', 'medium', 'high']"
   ]
  },
  {
   "cell_type": "code",
   "execution_count": 5,
   "id": "1d4accd2",
   "metadata": {},
   "outputs": [
    {
     "name": "stdout",
     "output_type": "stream",
     "text": [
      "{'low': 2, 'medium': 3, 'high': 2}\n"
     ]
    }
   ],
   "source": [
    "# Exercise 14: Category Counts\n",
    "# Function Purpose\n",
    "\n",
    "# Create a function categorize_and_count(values) that:\n",
    "    # Categorizes each number as \"low\", \"medium\", or \"high\" (same rules as before).\n",
    "    # Returns a dictionary with the count of how many numbers fell into each category.\n",
    "# This is a realistic step in data preprocessing or reporting — for example, summarizing how many customers fall into each spending bracket.\n",
    "\n",
    "\n",
    "def categorize_and_count(values):\n",
    "    categories = list()\n",
    "    count_list = {}\n",
    "\n",
    "    for x in values:\n",
    "        if x < 10:\n",
    "            categories.append(\"low\")\n",
    "        elif 10 <= x <= 100:\n",
    "            categories.append(\"medium\")\n",
    "        else:\n",
    "            categories.append(\"high\")\n",
    "    for word in categories:\n",
    "        if word in count_list:\n",
    "            count_list[word] += 1\n",
    "        else:\n",
    "            count_list[word] = 1\n",
    "    return count_list\n",
    "\n",
    "\n",
    "print(categorize_and_count([5, 10, 55, 101, 0, 99, 1000]))\n",
    "# → {'low': 2, 'medium': 3, 'high': 2}\n"
   ]
  },
  {
   "cell_type": "code",
   "execution_count": 6,
   "id": "944e31af",
   "metadata": {},
   "outputs": [],
   "source": [
    "# Exercise 15: Categorize with Custome Threshholds\n",
    "\n",
    "# Function Purpose\n",
    "    # Create a function categorize_with_thresholds(values, low_threshold=10, high_threshold=100) that:\n",
    "    # Categorizes each number based on custom thresholds instead of hardcoded 10 and 100.\n",
    "    # Returns a dictionary with counts for \"low\", \"medium\", and \"high\".\n",
    "# This is common in analytics when categories depend on business rules or dataset characteristics."
   ]
  },
  {
   "cell_type": "code",
   "execution_count": null,
   "id": "8bc3480f",
   "metadata": {},
   "outputs": [],
   "source": []
  }
 ],
 "metadata": {
  "kernelspec": {
   "display_name": "Python 3",
   "language": "python",
   "name": "python3"
  },
  "language_info": {
   "codemirror_mode": {
    "name": "ipython",
    "version": 3
   },
   "file_extension": ".py",
   "mimetype": "text/x-python",
   "name": "python",
   "nbconvert_exporter": "python",
   "pygments_lexer": "ipython3",
   "version": "3.13.3"
  }
 },
 "nbformat": 4,
 "nbformat_minor": 5
}
