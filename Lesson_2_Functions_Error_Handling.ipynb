{
 "cells": [
  {
   "cell_type": "code",
   "execution_count": 1,
   "id": "0aa3092c",
   "metadata": {},
   "outputs": [
    {
     "data": {
      "text/plain": [
       "7"
      ]
     },
     "execution_count": 1,
     "metadata": {},
     "output_type": "execute_result"
    }
   ],
   "source": [
    "# Count vowels (text)\n",
    "\n",
    "def count_vowels(text):\n",
    "    vowels = ['a', 'e', 'i', 'o', 'u']\n",
    "    counter = 0\n",
    "    for x  in text.lower():\n",
    "        if x in vowels:\n",
    "            counter += 1\n",
    "    return counter\n",
    "            \n",
    "            \n",
    "count_vowels(\"Data engineering\")        \n",
    "\n",
    "\n"
   ]
  },
  {
   "cell_type": "code",
   "execution_count": 3,
   "id": "b74f87ce",
   "metadata": {},
   "outputs": [
    {
     "name": "stdout",
     "output_type": "stream",
     "text": [
      "5.0\n",
      "Error: Cannot divide by zero\n"
     ]
    }
   ],
   "source": [
    "# Safe Division\n",
    "\n",
    "def safe_divide(a, b):\n",
    "    if b == 0:\n",
    "        return \"Error: Cannot divide by zero\"\n",
    "    else:\n",
    "        result = a / b\n",
    "    return result\n",
    "    \n",
    "print(safe_divide(10, 2))\n",
    "print(safe_divide(7, 0))"
   ]
  },
  {
   "cell_type": "code",
   "execution_count": 5,
   "id": "839ef095",
   "metadata": {},
   "outputs": [
    {
     "name": "stdout",
     "output_type": "stream",
     "text": [
      "(2, 8, 5.0)\n",
      "(10, 30, 20.0)\n"
     ]
    }
   ],
   "source": [
    "# Exercise 2: Summarise numbers (min, max, average)\n",
    "\n",
    "# Define function summarize(numbers).\n",
    "# Use min(numbers) to get the smallest value.\n",
    "# Use max(numbers) to get the largest value.\n",
    "# Compute average → sum(numbers) / len(numbers).\n",
    "# Return all three as a tuple (min, max, avg).\n",
    "\n",
    "def summarise(numbers):\n",
    "    minimum = min(numbers)\n",
    "    maximum = max(numbers)\n",
    "    average = sum(numbers) / len(numbers)\n",
    "    \n",
    "    return minimum, maximum, average\n",
    "    \n",
    "    \n",
    "print(summarise([2, 5, 8]))    # → (2, 8, 5.0)\n",
    "print(summarise([10, 20, 30])) # → (10, 30, 20.0)\n"
   ]
  },
  {
   "cell_type": "code",
   "execution_count": 10,
   "id": "e93e7d90",
   "metadata": {},
   "outputs": [
    {
     "data": {
      "text/plain": [
       "False"
      ]
     },
     "execution_count": 10,
     "metadata": {},
     "output_type": "execute_result"
    }
   ],
   "source": [
    "# Exercise 3: Email validation\n",
    "\n",
    "# Define function is_valid_email(email).\n",
    "# Check if \"@\" is in the string.\n",
    "# Check if \".\" is in the string.\n",
    "# If both conditions are true → return True.\n",
    "# Otherwise → return False.\n",
    "\n",
    "def is_valid_email(email):\n",
    "    if '@' in email and '.' in email:\n",
    "        return True\n",
    "    else:\n",
    "        return False\n",
    "    \n",
    "    \n",
    "\n",
    "is_valid_email(\"user.domain.com\")\n",
    "\n"
   ]
  },
  {
   "cell_type": "code",
   "execution_count": 30,
   "id": "45569afb",
   "metadata": {},
   "outputs": [
    {
     "data": {
      "text/plain": [
       "'testing hello world'"
      ]
     },
     "execution_count": 30,
     "metadata": {},
     "output_type": "execute_result"
    }
   ],
   "source": [
    "# Exercise 4: Text Cleaner Function\n",
    "\n",
    "# Define the function clean_text(text).\n",
    "# Convert to lowercase with .lower().\n",
    "# Replace \",\" and \".\" with empty strings (.replace(\",\", \"\"), .replace(\".\", \"\")).\n",
    "# Use .strip() to remove extra whitespace.\n",
    "# Return the cleaned string.\n",
    "\n",
    "\n",
    "def clean_text(text):\n",
    "    new_text = text.lower().replace(\",\", \"\").replace(\".\",\"\").strip()\n",
    "    return new_text\n",
    "    \n",
    "\n",
    "    \n",
    "clean_text(\"TeStInG, Hello world. \")\n"
   ]
  },
  {
   "cell_type": "code",
   "execution_count": 6,
   "id": "3bac9501",
   "metadata": {},
   "outputs": [
    {
     "name": "stdout",
     "output_type": "stream",
     "text": [
      "hello world\n",
      "hello, world.\n"
     ]
    }
   ],
   "source": [
    "# Exercise 5: Flexible Text Cleaner\n",
    "\n",
    "# Define the function clean_text(text, remove_punct=True).\n",
    "# Always:\n",
    "# Convert to lowercase.\n",
    "# Strip whitespace.\n",
    "# If remove_punct is True:\n",
    "# Remove commas and periods (as before).\n",
    "# Return the final string.\n",
    "\n",
    "def clean_text(text, remove_punct=True):\n",
    "    cleaned_text = text.lower().strip()\n",
    "    if remove_punct:\n",
    "        cleaned_text = cleaned_text.replace(\",\", \"\").replace(\".\", \"\")\n",
    "    return cleaned_text\n",
    "    \n",
    "print(clean_text(\" Hello, World. \"))\n",
    "print(clean_text(\" Hello, World. \", remove_punct=False))  "
   ]
  },
  {
   "cell_type": "code",
   "execution_count": 2,
   "id": "e76e8723",
   "metadata": {},
   "outputs": [
    {
     "name": "stdout",
     "output_type": "stream",
     "text": [
      "[10, 25, 15]\n",
      "[]\n"
     ]
    }
   ],
   "source": [
    "# Exercise 6: Filter Positive Numbers\n",
    "\n",
    "# Define the function filter_positive(numbers).\n",
    "# Create an empty list called result.\n",
    "# Loop through each number in numbers.\n",
    "# If the number is greater than 0, append it to result.\n",
    "# Return the result list.\n",
    "\n",
    "def filter_positive(numbers):\n",
    "    result = []\n",
    "    for x in numbers:\n",
    "        if x > 0:\n",
    "            result.append(x)\n",
    "    return result\n",
    "\n",
    "print(filter_positive([10, -3, 25, 0, -1, 15]))  \n",
    "print(filter_positive([-5, -2, 0]))  "
   ]
  },
  {
   "cell_type": "code",
   "execution_count": 8,
   "id": "23ba3dee",
   "metadata": {},
   "outputs": [
    {
     "name": "stdout",
     "output_type": "stream",
     "text": [
      "20.0\n",
      "Error: empty list\n"
     ]
    }
   ],
   "source": [
    "# Exercise 7: Safe Average Calculator\n",
    "\n",
    "# Function Purpose\n",
    "# Create a function safe_average(numbers) that:\n",
    "    # Returns the average of the numbers in a list.\n",
    "    # If the list is empty, return the string \"Error: empty list\".\n",
    "# This is common in reporting or analytics, where empty datasets should not crash your script with a ZeroDivisionError.\n",
    "\n",
    "def safe_average(numbers):\n",
    "    if len(numbers) == 0:\n",
    "        return (\"Error: empty list\")\n",
    "    else:\n",
    "        avg = sum(numbers) / len(numbers)\n",
    "        return avg\n",
    "    \n",
    "print(safe_average([10, 20, 30]))\n",
    "print(safe_average([]))"
   ]
  },
  {
   "cell_type": "code",
   "execution_count": null,
   "id": "2a4a9d48",
   "metadata": {},
   "outputs": [
    {
     "name": "stdout",
     "output_type": "stream",
     "text": [
      "(5, 15, 10.0)\n"
     ]
    }
   ],
   "source": [
    "# Exercise 8: Number Summary (Min, Max, Average)\n",
    "# Create a function number_summary(numbers) that:\n",
    "    # Returns three values: the minimum, maximum, and average of a list of numbers.\n",
    "    # If the list is empty, return the string \"Error: empty list\".\n",
    "# This is a cleaner, reusable version of something you’ll do a lot in data analysis.\n",
    "\n",
    "def num_summary(numbers):\n",
    "    if len(numbers) == 0:\n",
    "        return(\"Error: empty list\")\n",
    "    else:\n",
    "        min_num = min(numbers)\n",
    "        max_num = max(numbers)\n",
    "        avg = sum(numbers) / len(numbers)\n",
    "        return min_num, max_num, avg\n",
    "    \n",
    "print(num_summary([5, 10, 15]))\n",
    "\n",
    "print(num_summary([]))   "
   ]
  },
  {
   "cell_type": "code",
   "execution_count": null,
   "id": "ca44e5e5",
   "metadata": {},
   "outputs": [],
   "source": []
  }
 ],
 "metadata": {
  "kernelspec": {
   "display_name": "Python 3",
   "language": "python",
   "name": "python3"
  },
  "language_info": {
   "codemirror_mode": {
    "name": "ipython",
    "version": 3
   },
   "file_extension": ".py",
   "mimetype": "text/x-python",
   "name": "python",
   "nbconvert_exporter": "python",
   "pygments_lexer": "ipython3",
   "version": "3.13.6"
  }
 },
 "nbformat": 4,
 "nbformat_minor": 5
}
