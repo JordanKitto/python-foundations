{
 "cells": [
  {
   "cell_type": "code",
   "execution_count": 1,
   "id": "0aa3092c",
   "metadata": {},
   "outputs": [
    {
     "data": {
      "text/plain": [
       "7"
      ]
     },
     "execution_count": 1,
     "metadata": {},
     "output_type": "execute_result"
    }
   ],
   "source": [
    "# Count vowels (text)\n",
    "\n",
    "def count_vowels(text):\n",
    "    vowels = ['a', 'e', 'i', 'o', 'u']\n",
    "    counter = 0\n",
    "    for x  in text.lower():\n",
    "        if x in vowels:\n",
    "            counter += 1\n",
    "    return counter\n",
    "            \n",
    "            \n",
    "count_vowels(\"Data engineering\")        \n",
    "\n",
    "\n"
   ]
  },
  {
   "cell_type": "code",
   "execution_count": null,
   "id": "b74f87ce",
   "metadata": {},
   "outputs": [
    {
     "data": {
      "text/plain": [
       "'Error: Cannot divide by zero'"
      ]
     },
     "execution_count": 9,
     "metadata": {},
     "output_type": "execute_result"
    }
   ],
   "source": [
    "# Safe Division\n",
    "\n",
    "def safe_divide(a, b):\n",
    "    if b == 0:\n",
    "        return \"Error: Cannot divide by zero\"\n",
    "    else:\n",
    "        result = a / b\n",
    "    return result\n",
    "    \n",
    "safe_divide(10, 2)\n",
    "safe_divide(7, 0)"
   ]
  },
  {
   "cell_type": "code",
   "execution_count": null,
   "id": "839ef095",
   "metadata": {},
   "outputs": [],
   "source": []
  }
 ],
 "metadata": {
  "kernelspec": {
   "display_name": "Python 3",
   "language": "python",
   "name": "python3"
  },
  "language_info": {
   "codemirror_mode": {
    "name": "ipython",
    "version": 3
   },
   "file_extension": ".py",
   "mimetype": "text/x-python",
   "name": "python",
   "nbconvert_exporter": "python",
   "pygments_lexer": "ipython3",
   "version": "3.13.6"
  }
 },
 "nbformat": 4,
 "nbformat_minor": 5
}
