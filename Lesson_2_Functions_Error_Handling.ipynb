{
 "cells": [
  {
   "cell_type": "code",
   "execution_count": 1,
   "id": "0aa3092c",
   "metadata": {},
   "outputs": [
    {
     "data": {
      "text/plain": [
       "7"
      ]
     },
     "execution_count": 1,
     "metadata": {},
     "output_type": "execute_result"
    }
   ],
   "source": [
    "# Count vowels (text)\n",
    "\n",
    "def count_vowels(text):\n",
    "    vowels = ['a', 'e', 'i', 'o', 'u']\n",
    "    counter = 0\n",
    "    for x  in text.lower():\n",
    "        if x in vowels:\n",
    "            counter += 1\n",
    "    return counter\n",
    "            \n",
    "            \n",
    "count_vowels(\"Data engineering\")        \n",
    "\n",
    "\n"
   ]
  },
  {
   "cell_type": "code",
   "execution_count": 3,
   "id": "b74f87ce",
   "metadata": {},
   "outputs": [
    {
     "name": "stdout",
     "output_type": "stream",
     "text": [
      "5.0\n",
      "Error: Cannot divide by zero\n"
     ]
    }
   ],
   "source": [
    "# Safe Division\n",
    "\n",
    "def safe_divide(a, b):\n",
    "    if b == 0:\n",
    "        return \"Error: Cannot divide by zero\"\n",
    "    else:\n",
    "        result = a / b\n",
    "    return result\n",
    "    \n",
    "print(safe_divide(10, 2))\n",
    "print(safe_divide(7, 0))"
   ]
  },
  {
   "cell_type": "code",
   "execution_count": 5,
   "id": "839ef095",
   "metadata": {},
   "outputs": [
    {
     "name": "stdout",
     "output_type": "stream",
     "text": [
      "(2, 8, 5.0)\n",
      "(10, 30, 20.0)\n"
     ]
    }
   ],
   "source": [
    "# Exercise 2: Summarise numbers (min, max, average)\n",
    "\n",
    "# Define function summarize(numbers).\n",
    "# Use min(numbers) to get the smallest value.\n",
    "# Use max(numbers) to get the largest value.\n",
    "# Compute average → sum(numbers) / len(numbers).\n",
    "# Return all three as a tuple (min, max, avg).\n",
    "\n",
    "def summarise(numbers):\n",
    "    minimum = min(numbers)\n",
    "    maximum = max(numbers)\n",
    "    average = sum(numbers) / len(numbers)\n",
    "    \n",
    "    return minimum, maximum, average\n",
    "    \n",
    "    \n",
    "print(summarise([2, 5, 8]))    # → (2, 8, 5.0)\n",
    "print(summarise([10, 20, 30])) # → (10, 30, 20.0)\n"
   ]
  },
  {
   "cell_type": "code",
   "execution_count": 10,
   "id": "e93e7d90",
   "metadata": {},
   "outputs": [
    {
     "data": {
      "text/plain": [
       "False"
      ]
     },
     "execution_count": 10,
     "metadata": {},
     "output_type": "execute_result"
    }
   ],
   "source": [
    "# Exercise 3: Email validation\n",
    "\n",
    "# Define function is_valid_email(email).\n",
    "# Check if \"@\" is in the string.\n",
    "# Check if \".\" is in the string.\n",
    "# If both conditions are true → return True.\n",
    "# Otherwise → return False.\n",
    "\n",
    "def is_valid_email(email):\n",
    "    if '@' in email and '.' in email:\n",
    "        return True\n",
    "    else:\n",
    "        return False\n",
    "    \n",
    "    \n",
    "\n",
    "is_valid_email(\"user.domain.com\")\n",
    "\n"
   ]
  },
  {
   "cell_type": "code",
   "execution_count": 30,
   "id": "45569afb",
   "metadata": {},
   "outputs": [
    {
     "data": {
      "text/plain": [
       "'testing hello world'"
      ]
     },
     "execution_count": 30,
     "metadata": {},
     "output_type": "execute_result"
    }
   ],
   "source": [
    "# Exercise 4: Text Cleaner Function\n",
    "\n",
    "# Define the function clean_text(text).\n",
    "# Convert to lowercase with .lower().\n",
    "# Replace \",\" and \".\" with empty strings (.replace(\",\", \"\"), .replace(\".\", \"\")).\n",
    "# Use .strip() to remove extra whitespace.\n",
    "# Return the cleaned string.\n",
    "\n",
    "\n",
    "def clean_text(text):\n",
    "    new_text = text.lower().replace(\",\", \"\").replace(\".\",\"\").strip()\n",
    "    return new_text\n",
    "    \n",
    "\n",
    "    \n",
    "clean_text(\"TeStInG, Hello world. \")\n"
   ]
  },
  {
   "cell_type": "code",
   "execution_count": null,
   "id": "3bac9501",
   "metadata": {},
   "outputs": [],
   "source": []
  }
 ],
 "metadata": {
  "kernelspec": {
   "display_name": "Python 3",
   "language": "python",
   "name": "python3"
  },
  "language_info": {
   "codemirror_mode": {
    "name": "ipython",
    "version": 3
   },
   "file_extension": ".py",
   "mimetype": "text/x-python",
   "name": "python",
   "nbconvert_exporter": "python",
   "pygments_lexer": "ipython3",
   "version": "3.13.6"
  }
 },
 "nbformat": 4,
 "nbformat_minor": 5
}
